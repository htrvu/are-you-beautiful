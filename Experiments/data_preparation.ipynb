{
 "cells": [
  {
   "cell_type": "code",
   "execution_count": 2,
   "metadata": {},
   "outputs": [],
   "source": [
    "import os\n",
    "import shutil"
   ]
  },
  {
   "cell_type": "code",
   "execution_count": 3,
   "metadata": {},
   "outputs": [],
   "source": [
    "GENDER = './Dataset/Gender'\n",
    "BEAUTY = './Dataset/Beauty'"
   ]
  },
  {
   "cell_type": "markdown",
   "metadata": {},
   "source": [
    "### Reoganized the data of Gender"
   ]
  },
  {
   "cell_type": "markdown",
   "metadata": {},
   "source": [
    "We will use 5000 images for each class in Training, 500 images for each class for Validation, and so for Testing"
   ]
  },
  {
   "cell_type": "code",
   "execution_count": 7,
   "metadata": {},
   "outputs": [],
   "source": [
    "orginial_train_F_path = './Dataset/archive/Training/female'\n",
    "orginial_train_M_path = './Dataset/archive/Training/male'\n",
    "\n",
    "train_female_path = 'Dataset/Gender/Training/female'\n",
    "train_male_path = 'Dataset/Gender/Training/male'\n",
    "\n",
    "train_female_files = os.listdir(orginial_train_F_path)\n",
    "train_male_files = os.listdir(orginial_train_M_path)\n",
    "\n",
    "os.makedirs(train_female_path)\n",
    "os.makedirs(train_male_path)\n",
    "\n",
    "for i in range(5000):\n",
    "  shutil.move(os.path.join(orginial_train_F_path, train_female_files[i]), os.path.join(train_female_path, train_female_files[i]))\n",
    "  shutil.move(os.path.join(orginial_train_M_path, train_male_files[i]), os.path.join(train_male_path, train_male_files[i]))\n"
   ]
  },
  {
   "cell_type": "code",
   "execution_count": 8,
   "metadata": {},
   "outputs": [],
   "source": [
    "orginial_valid_F_path = './Dataset/archive/Validation/female'\n",
    "orginial_valid_M_path = './Dataset/archive/Validation/male'\n",
    "\n",
    "valid_female_path = 'Dataset/Gender/Validation/female'\n",
    "valid_male_path = 'Dataset/Gender/Validation/male'\n",
    "\n",
    "test_female_path = 'Dataset/Gender/Testing/female'\n",
    "test_male_path = 'Dataset/Gender/Testing/male'\n",
    "\n",
    "valid_female_files = os.listdir(orginial_valid_F_path)\n",
    "valid_male_files = os.listdir(orginial_valid_M_path)\n",
    "\n",
    "os.makedirs(valid_female_path)\n",
    "os.makedirs(valid_male_path)\n",
    "\n",
    "os.makedirs(test_female_path)\n",
    "os.makedirs(test_male_path)\n",
    "\n",
    "for i in range(500):\n",
    "  shutil.move(os.path.join(orginial_valid_F_path, valid_female_files[i]), os.path.join(valid_female_path, valid_female_files[i]))\n",
    "  shutil.move(os.path.join(orginial_valid_M_path, valid_male_files[i]), os.path.join(valid_male_path, valid_male_files[i]))\n",
    "\n",
    "for i in range(500, 1000):\n",
    "  shutil.move(os.path.join(orginial_valid_F_path, valid_female_files[i]), os.path.join(test_female_path, valid_female_files[i]))\n",
    "  shutil.move(os.path.join(orginial_valid_M_path, valid_male_files[i]), os.path.join(test_male_path, valid_male_files[i]))\n"
   ]
  }
 ],
 "metadata": {
  "interpreter": {
   "hash": "40d1db4a94018a5e249337a7b1a17ef1fd13f5f8dc81a689d6ef983120d3dcea"
  },
  "kernelspec": {
   "display_name": "Python 3.8.11 64-bit ('htrvu': conda)",
   "language": "python",
   "name": "python3"
  },
  "language_info": {
   "codemirror_mode": {
    "name": "ipython",
    "version": 3
   },
   "file_extension": ".py",
   "mimetype": "text/x-python",
   "name": "python",
   "nbconvert_exporter": "python",
   "pygments_lexer": "ipython3",
   "version": "3.8.8"
  },
  "orig_nbformat": 4
 },
 "nbformat": 4,
 "nbformat_minor": 2
}
